{
 "cells": [
  {
   "cell_type": "markdown",
   "metadata": {},
   "source": [
    "# Predicting Daily Curtailment Events\n",
    "\n",
    "Process Overview:\n",
    "\n",
    "1.  Label curtailment events (i.e. define a decision boundary)\n",
    "2.  Partition historic data into training and test sets\n",
    "3.  Fit a statistical model to the training data\n",
    "4.  Predict against the test data\n",
    "5.  Evaluate the performance of the model against known labels in the test data.\n",
    "\n",
    "\n",
    "Models:\n",
    "- `C(curtailment_event)`\n",
    "- TODO: Pending multi-year weather pipeline `C() ~ T + I + month*load`"
   ]
  },
  {
   "cell_type": "code",
   "execution_count": 1,
   "metadata": {},
   "outputs": [],
   "source": [
    "import pandas as pd\n",
    "import statsmodels.formula.api as smf\n",
    "import statsmodels.api as sm\n",
    "\n",
    "from src.conf import settings"
   ]
  },
  {
   "cell_type": "code",
   "execution_count": 2,
   "metadata": {},
   "outputs": [],
   "source": [
    "df = pd.concat(\n",
    "    [\n",
    "        pd.read_parquet(settings.DATA_DIR / f\"processed/caiso/{y}.parquet\") for y in range(2017,2020)\n",
    "    ]\n",
    ")\n",
    "df.columns = df.columns.str.lower().str.replace(\" \", \"_\")\n",
    "columns = [\"load\", \"net_load\", \"solar_curtailment\", \"solar\"]\n",
    "df = df[columns].groupby(pd.Grouper(freq=\"D\")).sum()\n",
    "df.reset_index(inplace=True)"
   ]
  },
  {
   "cell_type": "code",
   "execution_count": 3,
   "metadata": {},
   "outputs": [
    {
     "data": {
      "text/html": [
       "<div>\n",
       "<style scoped>\n",
       "    .dataframe tbody tr th:only-of-type {\n",
       "        vertical-align: middle;\n",
       "    }\n",
       "\n",
       "    .dataframe tbody tr th {\n",
       "        vertical-align: top;\n",
       "    }\n",
       "\n",
       "    .dataframe thead th {\n",
       "        text-align: right;\n",
       "    }\n",
       "</style>\n",
       "<table border=\"1\" class=\"dataframe\">\n",
       "  <thead>\n",
       "    <tr style=\"text-align: right;\">\n",
       "      <th></th>\n",
       "      <th>timestamp</th>\n",
       "      <th>load</th>\n",
       "      <th>net_load</th>\n",
       "      <th>solar_curtailment</th>\n",
       "      <th>solar</th>\n",
       "    </tr>\n",
       "  </thead>\n",
       "  <tbody>\n",
       "    <tr>\n",
       "      <th>0</th>\n",
       "      <td>2017-01-01 00:00:00+00:00</td>\n",
       "      <td>4.065994e+06</td>\n",
       "      <td>3.161397e+06</td>\n",
       "      <td>26760.716117</td>\n",
       "      <td>497133.285691</td>\n",
       "    </tr>\n",
       "    <tr>\n",
       "      <th>1</th>\n",
       "      <td>2017-01-02 00:00:00+00:00</td>\n",
       "      <td>6.690988e+06</td>\n",
       "      <td>5.889257e+06</td>\n",
       "      <td>43.705500</td>\n",
       "      <td>206467.221000</td>\n",
       "    </tr>\n",
       "    <tr>\n",
       "      <th>2</th>\n",
       "      <td>2017-01-03 00:00:00+00:00</td>\n",
       "      <td>7.231820e+06</td>\n",
       "      <td>6.737002e+06</td>\n",
       "      <td>54.841500</td>\n",
       "      <td>245951.093081</td>\n",
       "    </tr>\n",
       "    <tr>\n",
       "      <th>3</th>\n",
       "      <td>2017-01-04 00:00:00+00:00</td>\n",
       "      <td>7.368107e+06</td>\n",
       "      <td>6.683064e+06</td>\n",
       "      <td>20.247000</td>\n",
       "      <td>359225.032181</td>\n",
       "    </tr>\n",
       "    <tr>\n",
       "      <th>4</th>\n",
       "      <td>2017-01-05 00:00:00+00:00</td>\n",
       "      <td>7.245502e+06</td>\n",
       "      <td>6.373406e+06</td>\n",
       "      <td>190.026216</td>\n",
       "      <td>342741.964986</td>\n",
       "    </tr>\n",
       "  </tbody>\n",
       "</table>\n",
       "</div>"
      ],
      "text/plain": [
       "                  timestamp          load      net_load  solar_curtailment  \\\n",
       "0 2017-01-01 00:00:00+00:00  4.065994e+06  3.161397e+06       26760.716117   \n",
       "1 2017-01-02 00:00:00+00:00  6.690988e+06  5.889257e+06          43.705500   \n",
       "2 2017-01-03 00:00:00+00:00  7.231820e+06  6.737002e+06          54.841500   \n",
       "3 2017-01-04 00:00:00+00:00  7.368107e+06  6.683064e+06          20.247000   \n",
       "4 2017-01-05 00:00:00+00:00  7.245502e+06  6.373406e+06         190.026216   \n",
       "\n",
       "           solar  \n",
       "0  497133.285691  \n",
       "1  206467.221000  \n",
       "2  245951.093081  \n",
       "3  359225.032181  \n",
       "4  342741.964986  "
      ]
     },
     "execution_count": 3,
     "metadata": {},
     "output_type": "execute_result"
    }
   ],
   "source": [
    "df.head()"
   ]
  },
  {
   "cell_type": "markdown",
   "metadata": {},
   "source": [
    "## Seasonally-driven Model\n",
    "\n",
    "The goal of this model is to define a naive threshold that captures \"significant\" curtailment events.  From the EDA, we observed (very roughly) that large curtailment events could be captured by comparing a ratio of curtailment amount to solar output.  One mechanistic explanation for this could be that curtailment is most pronounced when load usage is low, but solar resource is high (e.g. temperate weather in population centers coinciding with clear sunny days.)"
   ]
  },
  {
   "cell_type": "code",
   "execution_count": 4,
   "metadata": {},
   "outputs": [],
   "source": [
    "# Label Data - based on our EDA, we might start by \"guessing\" a threshold of importance of .05\n",
    "# Later methods will be less biased, and allow for more variance.\n",
    "# TODO: Try to find natural clusterings through an unsupervised process to label the dataset, and try to predict those labels.\n",
    "df[\"curtailment_event\"] = pd.Categorical(df[\"solar_curtailment\"]/df[\"solar\"] > .05)\n",
    "\n",
    "df[\"is_weekday\"] = pd.Categorical(df[\"timestamp\"].dt.weekday.isin([5, 6]))"
   ]
  },
  {
   "cell_type": "code",
   "execution_count": 5,
   "metadata": {},
   "outputs": [],
   "source": [
    "training_data = df.query(\"timestamp.dt.year < 2019\")\n",
    "test_data = df.query(\"timestamp.dt.year == 2019\")"
   ]
  },
  {
   "cell_type": "markdown",
   "metadata": {},
   "source": [
    "We hope to motivate a few basic expectations about this model.\n",
    "\n",
    "1.  Show that seasonal variation (captured through simple time dependence) can perform better than guessing randomly.\n",
    "2.  That seasonal variation alone is not sufficient to perform useful metrics"
   ]
  },
  {
   "cell_type": "markdown",
   "metadata": {},
   "source": [
    "### Logistic Model"
   ]
  },
  {
   "cell_type": "code",
   "execution_count": 6,
   "metadata": {},
   "outputs": [
    {
     "data": {
      "text/html": [
       "<table class=\"simpletable\">\n",
       "<caption>Generalized Linear Model Regression Results</caption>\n",
       "<tr>\n",
       "  <th>Dep. Variable:</th>   <td>['C(curtailment_event)[False]', 'C(curtailment_event)[True]']</td> <th>  No. Observations:  </th>  <td>   730</td> \n",
       "</tr>\n",
       "<tr>\n",
       "  <th>Model:</th>                                        <td>GLM</td>                              <th>  Df Residuals:      </th>  <td>   716</td> \n",
       "</tr>\n",
       "<tr>\n",
       "  <th>Model Family:</th>                              <td>Binomial</td>                            <th>  Df Model:          </th>  <td>    13</td> \n",
       "</tr>\n",
       "<tr>\n",
       "  <th>Link Function:</th>                               <td>logit</td>                             <th>  Scale:             </th> <td>  1.0000</td>\n",
       "</tr>\n",
       "<tr>\n",
       "  <th>Method:</th>                                      <td>IRLS</td>                              <th>  Log-Likelihood:    </th> <td> -151.66</td>\n",
       "</tr>\n",
       "<tr>\n",
       "  <th>Date:</th>                                  <td>Thu, 12 Mar 2020</td>                        <th>  Deviance:          </th> <td>  303.32</td>\n",
       "</tr>\n",
       "<tr>\n",
       "  <th>Time:</th>                                      <td>04:15:22</td>                            <th>  Pearson chi2:      </th>  <td>  683.</td> \n",
       "</tr>\n",
       "<tr>\n",
       "  <th>No. Iterations:</th>                               <td>24</td>                               <th>                     </th>     <td> </td>   \n",
       "</tr>\n",
       "<tr>\n",
       "  <th>Covariance Type:</th>                           <td>nonrobust</td>                           <th>                     </th>     <td> </td>   \n",
       "</tr>\n",
       "</table>\n",
       "<table class=\"simpletable\">\n",
       "<tr>\n",
       "               <td></td>                  <th>coef</th>     <th>std err</th>      <th>z</th>      <th>P>|z|</th>  <th>[0.025</th>    <th>0.975]</th>  \n",
       "</tr>\n",
       "<tr>\n",
       "  <th>Intercept</th>                   <td>  -13.6675</td> <td>    4.145</td> <td>   -3.297</td> <td> 0.001</td> <td>  -21.792</td> <td>   -5.543</td>\n",
       "</tr>\n",
       "<tr>\n",
       "  <th>C(timestamp.dt.month)[T.2]</th>  <td>   -1.0978</td> <td>    0.708</td> <td>   -1.551</td> <td> 0.121</td> <td>   -2.485</td> <td>    0.289</td>\n",
       "</tr>\n",
       "<tr>\n",
       "  <th>C(timestamp.dt.month)[T.3]</th>  <td>   -1.6636</td> <td>    0.676</td> <td>   -2.462</td> <td> 0.014</td> <td>   -2.988</td> <td>   -0.339</td>\n",
       "</tr>\n",
       "<tr>\n",
       "  <th>C(timestamp.dt.month)[T.4]</th>  <td>   -0.6237</td> <td>    0.715</td> <td>   -0.873</td> <td> 0.383</td> <td>   -2.024</td> <td>    0.777</td>\n",
       "</tr>\n",
       "<tr>\n",
       "  <th>C(timestamp.dt.month)[T.5]</th>  <td>   -0.9646</td> <td>    0.725</td> <td>   -1.331</td> <td> 0.183</td> <td>   -2.385</td> <td>    0.456</td>\n",
       "</tr>\n",
       "<tr>\n",
       "  <th>C(timestamp.dt.month)[T.6]</th>  <td>   -0.0821</td> <td>    1.215</td> <td>   -0.068</td> <td> 0.946</td> <td>   -2.463</td> <td>    2.299</td>\n",
       "</tr>\n",
       "<tr>\n",
       "  <th>C(timestamp.dt.month)[T.7]</th>  <td>   18.3464</td> <td>  2.3e+04</td> <td>    0.001</td> <td> 0.999</td> <td> -4.5e+04</td> <td>  4.5e+04</td>\n",
       "</tr>\n",
       "<tr>\n",
       "  <th>C(timestamp.dt.month)[T.8]</th>  <td>   18.2086</td> <td> 2.44e+04</td> <td>    0.001</td> <td> 0.999</td> <td>-4.78e+04</td> <td> 4.78e+04</td>\n",
       "</tr>\n",
       "<tr>\n",
       "  <th>C(timestamp.dt.month)[T.9]</th>  <td>   -0.5793</td> <td>    1.247</td> <td>   -0.465</td> <td> 0.642</td> <td>   -3.023</td> <td>    1.865</td>\n",
       "</tr>\n",
       "<tr>\n",
       "  <th>C(timestamp.dt.month)[T.10]</th> <td>   -1.2986</td> <td>    0.742</td> <td>   -1.750</td> <td> 0.080</td> <td>   -2.753</td> <td>    0.156</td>\n",
       "</tr>\n",
       "<tr>\n",
       "  <th>C(timestamp.dt.month)[T.11]</th> <td>    0.8009</td> <td>    0.947</td> <td>    0.845</td> <td> 0.398</td> <td>   -1.056</td> <td>    2.658</td>\n",
       "</tr>\n",
       "<tr>\n",
       "  <th>C(timestamp.dt.month)[T.12]</th> <td>   22.7649</td> <td> 2.61e+04</td> <td>    0.001</td> <td> 0.999</td> <td>-5.11e+04</td> <td> 5.11e+04</td>\n",
       "</tr>\n",
       "<tr>\n",
       "  <th>C(is_weekday)[T.True]</th>       <td>    0.0392</td> <td>    0.437</td> <td>    0.090</td> <td> 0.929</td> <td>   -0.818</td> <td>    0.896</td>\n",
       "</tr>\n",
       "<tr>\n",
       "  <th>load</th>                        <td> 2.399e-06</td> <td> 5.83e-07</td> <td>    4.115</td> <td> 0.000</td> <td> 1.26e-06</td> <td> 3.54e-06</td>\n",
       "</tr>\n",
       "</table>"
      ],
      "text/plain": [
       "<class 'statsmodels.iolib.summary.Summary'>\n",
       "\"\"\"\n",
       "                                       Generalized Linear Model Regression Results                                       \n",
       "=========================================================================================================================\n",
       "Dep. Variable:     ['C(curtailment_event)[False]', 'C(curtailment_event)[True]']   No. Observations:                  730\n",
       "Model:                                                                       GLM   Df Residuals:                      716\n",
       "Model Family:                                                           Binomial   Df Model:                           13\n",
       "Link Function:                                                             logit   Scale:                          1.0000\n",
       "Method:                                                                     IRLS   Log-Likelihood:                -151.66\n",
       "Date:                                                           Thu, 12 Mar 2020   Deviance:                       303.32\n",
       "Time:                                                                   04:15:22   Pearson chi2:                     683.\n",
       "No. Iterations:                                                               24                                         \n",
       "Covariance Type:                                                       nonrobust                                         \n",
       "===============================================================================================\n",
       "                                  coef    std err          z      P>|z|      [0.025      0.975]\n",
       "-----------------------------------------------------------------------------------------------\n",
       "Intercept                     -13.6675      4.145     -3.297      0.001     -21.792      -5.543\n",
       "C(timestamp.dt.month)[T.2]     -1.0978      0.708     -1.551      0.121      -2.485       0.289\n",
       "C(timestamp.dt.month)[T.3]     -1.6636      0.676     -2.462      0.014      -2.988      -0.339\n",
       "C(timestamp.dt.month)[T.4]     -0.6237      0.715     -0.873      0.383      -2.024       0.777\n",
       "C(timestamp.dt.month)[T.5]     -0.9646      0.725     -1.331      0.183      -2.385       0.456\n",
       "C(timestamp.dt.month)[T.6]     -0.0821      1.215     -0.068      0.946      -2.463       2.299\n",
       "C(timestamp.dt.month)[T.7]     18.3464    2.3e+04      0.001      0.999    -4.5e+04     4.5e+04\n",
       "C(timestamp.dt.month)[T.8]     18.2086   2.44e+04      0.001      0.999   -4.78e+04    4.78e+04\n",
       "C(timestamp.dt.month)[T.9]     -0.5793      1.247     -0.465      0.642      -3.023       1.865\n",
       "C(timestamp.dt.month)[T.10]    -1.2986      0.742     -1.750      0.080      -2.753       0.156\n",
       "C(timestamp.dt.month)[T.11]     0.8009      0.947      0.845      0.398      -1.056       2.658\n",
       "C(timestamp.dt.month)[T.12]    22.7649   2.61e+04      0.001      0.999   -5.11e+04    5.11e+04\n",
       "C(is_weekday)[T.True]           0.0392      0.437      0.090      0.929      -0.818       0.896\n",
       "load                         2.399e-06   5.83e-07      4.115      0.000    1.26e-06    3.54e-06\n",
       "===============================================================================================\n",
       "\"\"\""
      ]
     },
     "execution_count": 6,
     "metadata": {},
     "output_type": "execute_result"
    }
   ],
   "source": [
    "model = \"C(curtailment_event) ~ C(timestamp.dt.month) + C(is_weekday) + load\"\n",
    "result = smf.glm(\n",
    "    model,\n",
    "    training_data,\n",
    "    family=sm.families.Binomial()\n",
    ").fit()\n",
    "result.summary()"
   ]
  },
  {
   "cell_type": "code",
   "execution_count": 7,
   "metadata": {},
   "outputs": [],
   "source": [
    "predictions = result.predict(test_data.drop(columns=[\"curtailment_event\"]))\n",
    "predictions.name = \"probability\"\n",
    "predictions = test_data.merge(predictions, left_index=True, right_index=True)"
   ]
  },
  {
   "cell_type": "markdown",
   "metadata": {},
   "source": [
    "Below is how our test data are actually labeled."
   ]
  },
  {
   "cell_type": "code",
   "execution_count": 8,
   "metadata": {},
   "outputs": [
    {
     "data": {
      "text/plain": [
       "False    282\n",
       "True      83\n",
       "Name: curtailment_event, dtype: int64"
      ]
     },
     "execution_count": 8,
     "metadata": {},
     "output_type": "execute_result"
    }
   ],
   "source": [
    "test_data[\"curtailment_event\"].value_counts()"
   ]
  },
  {
   "cell_type": "code",
   "execution_count": 9,
   "metadata": {},
   "outputs": [
    {
     "data": {
      "text/plain": [
       "42"
      ]
     },
     "execution_count": 9,
     "metadata": {},
     "output_type": "execute_result"
    }
   ],
   "source": [
    "predictions.query(\"probability > .8\")[\"curtailment_event\"].value_counts().loc[True]"
   ]
  },
  {
   "cell_type": "markdown",
   "metadata": {},
   "source": [
    "Below is a count of our binary classification errors using an arbitrary cutoff probability of .8.  The model predicts the probability a day will have curtailment."
   ]
  },
  {
   "cell_type": "markdown",
   "metadata": {},
   "source": [
    "### Model Evaluation\n",
    "\n",
    "We can calculate a confusion matrix and report back accuracy and precision scores."
   ]
  },
  {
   "cell_type": "code",
   "execution_count": 10,
   "metadata": {},
   "outputs": [
    {
     "name": "stdout",
     "output_type": "stream",
     "text": [
      "Accuracy: 0.24383561643835616; Precision: 0.5060240963855421\n"
     ]
    }
   ],
   "source": [
    "true_positives = predictions.query(\"probability > .8\")[\"curtailment_event\"].value_counts().loc[True]\n",
    "false_negatives = predictions.query(\"probability > .8\")[\"curtailment_event\"].value_counts().loc[False]\n",
    "true_negatives = predictions.query(\"probability <= .8\")[\"curtailment_event\"].value_counts().loc[False]\n",
    "false_positives = predictions.query(\"probability <= .8\")[\"curtailment_event\"].value_counts().loc[True]\n",
    "\n",
    "accuracy = (true_positives+true_negatives)/len(predictions)\n",
    "precision = true_positives / (true_positives + false_positives)\n",
    "print(f\"Accuracy: {accuracy}; Precision: {precision}\")"
   ]
  },
  {
   "cell_type": "markdown",
   "metadata": {},
   "source": []
  }
 ],
 "metadata": {
  "kernelspec": {
   "display_name": "Python 3.7.6 64-bit ('CaReCur': pipenv)",
   "language": "python",
   "name": "python37664bitcarecurpipenv318f26dc7d1c4bbea8c84f6bd8ce7bff"
  },
  "language_info": {
   "codemirror_mode": {
    "name": "ipython",
    "version": 3
   },
   "file_extension": ".py",
   "mimetype": "text/x-python",
   "name": "python",
   "nbconvert_exporter": "python",
   "pygments_lexer": "ipython3",
   "version": "3.7.6"
  }
 },
 "nbformat": 4,
 "nbformat_minor": 4
}
