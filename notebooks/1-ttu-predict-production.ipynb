{
 "cells": [
  {
   "cell_type": "markdown",
   "metadata": {},
   "source": [
    "# Predicting Daily Curtailment Events\n",
    "\n",
    "The goal of this section is to motivate whether the grid state of \"big curtailment\" or \"small/no curtailment\" can be predicted just through seasonality.\n"
   ]
  },
  {
   "cell_type": "markdown",
   "metadata": {},
   "source": [
    "## Process Overview:\n",
    "\n",
    "1.  Label curtailment events (i.e. define a decision boundary)\n",
    "2.  Partition historic data into training and test sets\n",
    "3.  Fit a statistical model to the training data\n",
    "4.  Predict against the test data\n",
    "5.  Evaluate the performance of the model against known labels in the test data.\n"
   ]
  },
  {
   "cell_type": "code",
   "execution_count": 1,
   "metadata": {},
   "outputs": [],
   "source": [
    "import pandas as pd\n",
    "import statsmodels.formula.api as smf\n",
    "import statsmodels.api as sm\n",
    "\n",
    "from src.conf import settings"
   ]
  },
  {
   "cell_type": "code",
   "execution_count": 2,
   "metadata": {},
   "outputs": [
    {
     "name": "stderr",
     "output_type": "stream",
     "text": [
      "/home/ttu/.local/share/virtualenvs/CaReCur-b3qbtQ7S/lib/python3.7/site-packages/fastparquet/encoding.py:222: NumbaDeprecationWarning: \u001b[1mThe 'numba.jitclass' decorator has moved to 'numba.experimental.jitclass' to better reflect the experimental nature of the functionality. Please update your imports to accommodate this change and see http://numba.pydata.org/numba-doc/latest/reference/deprecation.html#change-of-jitclass-location for the time frame.\u001b[0m\n",
      "  Numpy8 = numba.jitclass(spec8)(NumpyIO)\n",
      "/home/ttu/.local/share/virtualenvs/CaReCur-b3qbtQ7S/lib/python3.7/site-packages/fastparquet/encoding.py:224: NumbaDeprecationWarning: \u001b[1mThe 'numba.jitclass' decorator has moved to 'numba.experimental.jitclass' to better reflect the experimental nature of the functionality. Please update your imports to accommodate this change and see http://numba.pydata.org/numba-doc/latest/reference/deprecation.html#change-of-jitclass-location for the time frame.\u001b[0m\n",
      "  Numpy32 = numba.jitclass(spec32)(NumpyIO)\n"
     ]
    }
   ],
   "source": [
    "df = pd.concat(\n",
    "    [\n",
    "        pd.read_parquet(settings.DATA_DIR / f\"processed/caiso/{y}.parquet\") for y in range(2017,2020)\n",
    "    ]\n",
    ")\n",
    "df.columns = df.columns.str.lower().str.replace(\" \", \"_\")\n",
    "columns = [\"load\", \"net_load\", \"solar_curtailment\", \"solar\"]\n",
    "df = df[columns].groupby(pd.Grouper(freq=\"D\")).sum()\n",
    "df.reset_index(inplace=True)"
   ]
  },
  {
   "cell_type": "code",
   "execution_count": 3,
   "metadata": {},
   "outputs": [
    {
     "data": {
      "text/html": [
       "<div>\n",
       "<style scoped>\n",
       "    .dataframe tbody tr th:only-of-type {\n",
       "        vertical-align: middle;\n",
       "    }\n",
       "\n",
       "    .dataframe tbody tr th {\n",
       "        vertical-align: top;\n",
       "    }\n",
       "\n",
       "    .dataframe thead th {\n",
       "        text-align: right;\n",
       "    }\n",
       "</style>\n",
       "<table border=\"1\" class=\"dataframe\">\n",
       "  <thead>\n",
       "    <tr style=\"text-align: right;\">\n",
       "      <th></th>\n",
       "      <th>timestamp</th>\n",
       "      <th>load</th>\n",
       "      <th>net_load</th>\n",
       "      <th>solar_curtailment</th>\n",
       "      <th>solar</th>\n",
       "    </tr>\n",
       "  </thead>\n",
       "  <tbody>\n",
       "    <tr>\n",
       "      <th>0</th>\n",
       "      <td>2017-01-01 00:00:00+00:00</td>\n",
       "      <td>4.065994e+06</td>\n",
       "      <td>3.161397e+06</td>\n",
       "      <td>26760.716117</td>\n",
       "      <td>497133.285691</td>\n",
       "    </tr>\n",
       "    <tr>\n",
       "      <th>1</th>\n",
       "      <td>2017-01-02 00:00:00+00:00</td>\n",
       "      <td>6.690988e+06</td>\n",
       "      <td>5.889257e+06</td>\n",
       "      <td>43.705500</td>\n",
       "      <td>206467.221000</td>\n",
       "    </tr>\n",
       "    <tr>\n",
       "      <th>2</th>\n",
       "      <td>2017-01-03 00:00:00+00:00</td>\n",
       "      <td>7.231820e+06</td>\n",
       "      <td>6.737002e+06</td>\n",
       "      <td>54.841500</td>\n",
       "      <td>245951.093081</td>\n",
       "    </tr>\n",
       "    <tr>\n",
       "      <th>3</th>\n",
       "      <td>2017-01-04 00:00:00+00:00</td>\n",
       "      <td>7.368107e+06</td>\n",
       "      <td>6.683064e+06</td>\n",
       "      <td>20.247000</td>\n",
       "      <td>359225.032181</td>\n",
       "    </tr>\n",
       "    <tr>\n",
       "      <th>4</th>\n",
       "      <td>2017-01-05 00:00:00+00:00</td>\n",
       "      <td>7.245502e+06</td>\n",
       "      <td>6.373406e+06</td>\n",
       "      <td>190.026216</td>\n",
       "      <td>342741.964986</td>\n",
       "    </tr>\n",
       "  </tbody>\n",
       "</table>\n",
       "</div>"
      ],
      "text/plain": [
       "                  timestamp          load      net_load  solar_curtailment  \\\n",
       "0 2017-01-01 00:00:00+00:00  4.065994e+06  3.161397e+06       26760.716117   \n",
       "1 2017-01-02 00:00:00+00:00  6.690988e+06  5.889257e+06          43.705500   \n",
       "2 2017-01-03 00:00:00+00:00  7.231820e+06  6.737002e+06          54.841500   \n",
       "3 2017-01-04 00:00:00+00:00  7.368107e+06  6.683064e+06          20.247000   \n",
       "4 2017-01-05 00:00:00+00:00  7.245502e+06  6.373406e+06         190.026216   \n",
       "\n",
       "           solar  \n",
       "0  497133.285691  \n",
       "1  206467.221000  \n",
       "2  245951.093081  \n",
       "3  359225.032181  \n",
       "4  342741.964986  "
      ]
     },
     "execution_count": 3,
     "metadata": {},
     "output_type": "execute_result"
    }
   ],
   "source": [
    "df.head()"
   ]
  },
  {
   "cell_type": "markdown",
   "metadata": {},
   "source": [
    "## Seasonally-driven Model\n",
    "\n",
    "The goal of this model is to define a naive threshold that captures \"significant\" curtailment events.  From the EDA, we observed (very roughly) that large curtailment events could be captured by comparing a ratio of curtailment amount to solar output.  One mechanistic explanation for this could be that curtailment is most pronounced when load usage is low, but solar resource is high (e.g. temperate weather in population centers coinciding with clear sunny days.)"
   ]
  },
  {
   "cell_type": "code",
   "execution_count": 4,
   "metadata": {},
   "outputs": [],
   "source": [
    "# Label Data - based on our EDA, we might start by \"guessing\" a threshold of importance of .05\n",
    "# Later methods will be less biased, and allow for more variance.\n",
    "# TODO: Try to find natural clusterings through an unsupervised process to label the dataset, and try to predict those labels.\n",
    "df[\"curtailment_event\"] = pd.Categorical(df[\"solar_curtailment\"]/df[\"solar\"] > .05)\n",
    "\n",
    "df[\"is_weekday\"] = pd.Categorical(df[\"timestamp\"].dt.weekday.isin([5, 6]))"
   ]
  },
  {
   "cell_type": "code",
   "execution_count": 5,
   "metadata": {},
   "outputs": [],
   "source": [
    "training_data = df.query(\"timestamp.dt.year < 2019\")\n",
    "test_data = df.query(\"timestamp.dt.year == 2019\")"
   ]
  },
  {
   "cell_type": "markdown",
   "metadata": {},
   "source": [
    "We hope to motivate a few basic expectations about this model.\n",
    "\n",
    "1.  Show that seasonal variation (captured through simple time dependence) can perform better than guessing randomly.\n",
    "2.  That seasonal variation alone is not sufficient to perform useful metrics"
   ]
  },
  {
   "cell_type": "markdown",
   "metadata": {},
   "source": [
    "### Seasonal Effect From Load\n",
    "\n",
    "Curtailment ~ month + weekday + net_load"
   ]
  },
  {
   "cell_type": "code",
   "execution_count": 6,
   "metadata": {},
   "outputs": [
    {
     "data": {
      "text/html": [
       "<table class=\"simpletable\">\n",
       "<caption>Generalized Linear Model Regression Results</caption>\n",
       "<tr>\n",
       "  <th>Dep. Variable:</th>   <td>['C(curtailment_event)[False]', 'C(curtailment_event)[True]']</td> <th>  No. Observations:  </th>  <td>   730</td> \n",
       "</tr>\n",
       "<tr>\n",
       "  <th>Model:</th>                                        <td>GLM</td>                              <th>  Df Residuals:      </th>  <td>   716</td> \n",
       "</tr>\n",
       "<tr>\n",
       "  <th>Model Family:</th>                              <td>Binomial</td>                            <th>  Df Model:          </th>  <td>    13</td> \n",
       "</tr>\n",
       "<tr>\n",
       "  <th>Link Function:</th>                               <td>logit</td>                             <th>  Scale:             </th> <td>  1.0000</td>\n",
       "</tr>\n",
       "<tr>\n",
       "  <th>Method:</th>                                      <td>IRLS</td>                              <th>  Log-Likelihood:    </th> <td> -143.47</td>\n",
       "</tr>\n",
       "<tr>\n",
       "  <th>Date:</th>                                  <td>Thu, 09 Apr 2020</td>                        <th>  Deviance:          </th> <td>  286.94</td>\n",
       "</tr>\n",
       "<tr>\n",
       "  <th>Time:</th>                                      <td>12:27:11</td>                            <th>  Pearson chi2:      </th> <td>1.10e+03</td>\n",
       "</tr>\n",
       "<tr>\n",
       "  <th>No. Iterations:</th>                               <td>24</td>                               <th>                     </th>     <td> </td>   \n",
       "</tr>\n",
       "<tr>\n",
       "  <th>Covariance Type:</th>                           <td>nonrobust</td>                           <th>                     </th>     <td> </td>   \n",
       "</tr>\n",
       "</table>\n",
       "<table class=\"simpletable\">\n",
       "<tr>\n",
       "               <td></td>                  <th>coef</th>     <th>std err</th>      <th>z</th>      <th>P>|z|</th>  <th>[0.025</th>    <th>0.975]</th>  \n",
       "</tr>\n",
       "<tr>\n",
       "  <th>Intercept</th>                   <td>   -9.8119</td> <td>    2.464</td> <td>   -3.982</td> <td> 0.000</td> <td>  -14.641</td> <td>   -4.983</td>\n",
       "</tr>\n",
       "<tr>\n",
       "  <th>C(timestamp.dt.month)[T.2]</th>  <td>   -0.5247</td> <td>    0.736</td> <td>   -0.713</td> <td> 0.476</td> <td>   -1.966</td> <td>    0.917</td>\n",
       "</tr>\n",
       "<tr>\n",
       "  <th>C(timestamp.dt.month)[T.3]</th>  <td>   -0.7897</td> <td>    0.724</td> <td>   -1.090</td> <td> 0.276</td> <td>   -2.210</td> <td>    0.630</td>\n",
       "</tr>\n",
       "<tr>\n",
       "  <th>C(timestamp.dt.month)[T.4]</th>  <td>    1.0300</td> <td>    0.824</td> <td>    1.250</td> <td> 0.211</td> <td>   -0.585</td> <td>    2.645</td>\n",
       "</tr>\n",
       "<tr>\n",
       "  <th>C(timestamp.dt.month)[T.5]</th>  <td>    1.3245</td> <td>    0.859</td> <td>    1.542</td> <td> 0.123</td> <td>   -0.360</td> <td>    3.009</td>\n",
       "</tr>\n",
       "<tr>\n",
       "  <th>C(timestamp.dt.month)[T.6]</th>  <td>    2.6394</td> <td>    1.256</td> <td>    2.102</td> <td> 0.036</td> <td>    0.178</td> <td>    5.100</td>\n",
       "</tr>\n",
       "<tr>\n",
       "  <th>C(timestamp.dt.month)[T.7]</th>  <td>   20.8902</td> <td> 2.28e+04</td> <td>    0.001</td> <td> 0.999</td> <td>-4.47e+04</td> <td> 4.48e+04</td>\n",
       "</tr>\n",
       "<tr>\n",
       "  <th>C(timestamp.dt.month)[T.8]</th>  <td>   20.7859</td> <td> 2.39e+04</td> <td>    0.001</td> <td> 0.999</td> <td>-4.68e+04</td> <td> 4.68e+04</td>\n",
       "</tr>\n",
       "<tr>\n",
       "  <th>C(timestamp.dt.month)[T.9]</th>  <td>    1.1599</td> <td>    1.195</td> <td>    0.970</td> <td> 0.332</td> <td>   -1.183</td> <td>    3.503</td>\n",
       "</tr>\n",
       "<tr>\n",
       "  <th>C(timestamp.dt.month)[T.10]</th> <td>   -0.2105</td> <td>    0.756</td> <td>   -0.278</td> <td> 0.781</td> <td>   -1.693</td> <td>    1.272</td>\n",
       "</tr>\n",
       "<tr>\n",
       "  <th>C(timestamp.dt.month)[T.11]</th> <td>    1.2492</td> <td>    0.971</td> <td>    1.286</td> <td> 0.198</td> <td>   -0.655</td> <td>    3.153</td>\n",
       "</tr>\n",
       "<tr>\n",
       "  <th>C(timestamp.dt.month)[T.12]</th> <td>   23.0012</td> <td> 2.51e+04</td> <td>    0.001</td> <td> 0.999</td> <td>-4.92e+04</td> <td> 4.92e+04</td>\n",
       "</tr>\n",
       "<tr>\n",
       "  <th>C(is_weekday)[T.True]</th>       <td>   -0.2465</td> <td>    0.358</td> <td>   -0.688</td> <td> 0.491</td> <td>   -0.949</td> <td>    0.456</td>\n",
       "</tr>\n",
       "<tr>\n",
       "  <th>net_load</th>                    <td> 2.113e-06</td> <td>  3.9e-07</td> <td>    5.423</td> <td> 0.000</td> <td> 1.35e-06</td> <td> 2.88e-06</td>\n",
       "</tr>\n",
       "</table>"
      ],
      "text/plain": [
       "<class 'statsmodels.iolib.summary.Summary'>\n",
       "\"\"\"\n",
       "                                       Generalized Linear Model Regression Results                                       \n",
       "=========================================================================================================================\n",
       "Dep. Variable:     ['C(curtailment_event)[False]', 'C(curtailment_event)[True]']   No. Observations:                  730\n",
       "Model:                                                                       GLM   Df Residuals:                      716\n",
       "Model Family:                                                           Binomial   Df Model:                           13\n",
       "Link Function:                                                             logit   Scale:                          1.0000\n",
       "Method:                                                                     IRLS   Log-Likelihood:                -143.47\n",
       "Date:                                                           Thu, 09 Apr 2020   Deviance:                       286.94\n",
       "Time:                                                                   12:27:11   Pearson chi2:                 1.10e+03\n",
       "No. Iterations:                                                               24                                         \n",
       "Covariance Type:                                                       nonrobust                                         \n",
       "===============================================================================================\n",
       "                                  coef    std err          z      P>|z|      [0.025      0.975]\n",
       "-----------------------------------------------------------------------------------------------\n",
       "Intercept                      -9.8119      2.464     -3.982      0.000     -14.641      -4.983\n",
       "C(timestamp.dt.month)[T.2]     -0.5247      0.736     -0.713      0.476      -1.966       0.917\n",
       "C(timestamp.dt.month)[T.3]     -0.7897      0.724     -1.090      0.276      -2.210       0.630\n",
       "C(timestamp.dt.month)[T.4]      1.0300      0.824      1.250      0.211      -0.585       2.645\n",
       "C(timestamp.dt.month)[T.5]      1.3245      0.859      1.542      0.123      -0.360       3.009\n",
       "C(timestamp.dt.month)[T.6]      2.6394      1.256      2.102      0.036       0.178       5.100\n",
       "C(timestamp.dt.month)[T.7]     20.8902   2.28e+04      0.001      0.999   -4.47e+04    4.48e+04\n",
       "C(timestamp.dt.month)[T.8]     20.7859   2.39e+04      0.001      0.999   -4.68e+04    4.68e+04\n",
       "C(timestamp.dt.month)[T.9]      1.1599      1.195      0.970      0.332      -1.183       3.503\n",
       "C(timestamp.dt.month)[T.10]    -0.2105      0.756     -0.278      0.781      -1.693       1.272\n",
       "C(timestamp.dt.month)[T.11]     1.2492      0.971      1.286      0.198      -0.655       3.153\n",
       "C(timestamp.dt.month)[T.12]    23.0012   2.51e+04      0.001      0.999   -4.92e+04    4.92e+04\n",
       "C(is_weekday)[T.True]          -0.2465      0.358     -0.688      0.491      -0.949       0.456\n",
       "net_load                     2.113e-06    3.9e-07      5.423      0.000    1.35e-06    2.88e-06\n",
       "===============================================================================================\n",
       "\"\"\""
      ]
     },
     "execution_count": 6,
     "metadata": {},
     "output_type": "execute_result"
    }
   ],
   "source": [
    "model = \"C(curtailment_event) ~ C(timestamp.dt.month) + C(is_weekday) + load\"\n",
    "result = smf.glm(\n",
    "    model,\n",
    "    training_data,\n",
    "    family=sm.families.Binomial()\n",
    ").fit()\n",
    "result.summary()"
   ]
  },
  {
   "cell_type": "code",
   "execution_count": 7,
   "metadata": {},
   "outputs": [],
   "source": [
    "predictions = result.predict(test_data.drop(columns=[\"curtailment_event\"]))\n",
    "predictions.name = \"probability\"\n",
    "predictions = test_data.merge(predictions, left_index=True, right_index=True)"
   ]
  },
  {
   "cell_type": "markdown",
   "metadata": {},
   "source": [
    "Below is how our test data are actually labeled."
   ]
  },
  {
   "cell_type": "code",
   "execution_count": 8,
   "metadata": {},
   "outputs": [
    {
     "data": {
      "text/plain": [
       "False    282\n",
       "True      83\n",
       "Name: curtailment_event, dtype: int64"
      ]
     },
     "execution_count": 8,
     "metadata": {},
     "output_type": "execute_result"
    }
   ],
   "source": [
    "test_data[\"curtailment_event\"].value_counts()"
   ]
  },
  {
   "cell_type": "code",
   "execution_count": 9,
   "metadata": {},
   "outputs": [
    {
     "data": {
      "text/plain": [
       "44"
      ]
     },
     "execution_count": 9,
     "metadata": {},
     "output_type": "execute_result"
    }
   ],
   "source": [
    "predictions.query(\"probability > .8\")[\"curtailment_event\"].value_counts().loc[True]"
   ]
  },
  {
   "cell_type": "markdown",
   "metadata": {},
   "source": [
    "Below is a count of our binary classification errors using an arbitrary cutoff probability of .8.  The model predicts the probability a day will have curtailment."
   ]
  },
  {
   "cell_type": "markdown",
   "metadata": {},
   "source": [
    "### Model Evaluation\n",
    "\n",
    "We can calculate a confusion matrix and report back accuracy and precision scores."
   ]
  },
  {
   "cell_type": "code",
   "execution_count": 10,
   "metadata": {},
   "outputs": [
    {
     "name": "stdout",
     "output_type": "stream",
     "text": [
      "Accuracy: 0.2602739726027397; Precision: 0.5301204819277109\n"
     ]
    }
   ],
   "source": [
    "true_positives = predictions.query(\"probability > .8\")[\"curtailment_event\"].value_counts().loc[True]\n",
    "false_negatives = predictions.query(\"probability > .8\")[\"curtailment_event\"].value_counts().loc[False]\n",
    "true_negatives = predictions.query(\"probability <= .8\")[\"curtailment_event\"].value_counts().loc[False]\n",
    "false_positives = predictions.query(\"probability <= .8\")[\"curtailment_event\"].value_counts().loc[True]\n",
    "\n",
    "accuracy = (true_positives+true_negatives)/len(predictions)\n",
    "precision = true_positives / (true_positives + false_positives)\n",
    "print(f\"Accuracy: {accuracy}; Precision: {precision}\")"
   ]
  },
  {
   "cell_type": "markdown",
   "metadata": {},
   "source": []
  }
 ],
 "metadata": {
  "kernelspec": {
   "display_name": "carecur",
   "language": "python",
   "name": "carecur"
  },
  "language_info": {
   "codemirror_mode": {
    "name": "ipython",
    "version": 3
   },
   "file_extension": ".py",
   "mimetype": "text/x-python",
   "name": "python",
   "nbconvert_exporter": "python",
   "pygments_lexer": "ipython3",
   "version": "3.8.2"
  }
 },
 "nbformat": 4,
 "nbformat_minor": 4
}
